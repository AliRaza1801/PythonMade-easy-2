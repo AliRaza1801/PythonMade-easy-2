{
  "nbformat": 4,
  "nbformat_minor": 0,
  "metadata": {
    "colab": {
      "name": "Advance collection in python.ipynb",
      "provenance": [],
      "authorship_tag": "ABX9TyPitiKXX2jyipesS0ybMPaT",
      "include_colab_link": true
    },
    "kernelspec": {
      "name": "python3",
      "display_name": "Python 3"
    }
  },
  "cells": [
    {
      "cell_type": "markdown",
      "metadata": {
        "id": "view-in-github",
        "colab_type": "text"
      },
      "source": [
        "<a href=\"https://colab.research.google.com/github/mjaffry/PythonMade-easy-2/blob/main/Advance_collection_in_python.ipynb\" target=\"_parent\"><img src=\"https://colab.research.google.com/assets/colab-badge.svg\" alt=\"Open In Colab\"/></a>"
      ]
    },
    {
      "cell_type": "code",
      "metadata": {
        "colab": {
          "base_uri": "https://localhost:8080/"
        },
        "id": "xKrmjqotnhMn",
        "outputId": "677a7318-b598-41f9-f9fa-0645e2a92db2"
      },
      "source": [
        "from collections import Counter\r\n",
        "a= \"Md Ali Jaffry son of Zahid Hussain Jaffry\"\r\n",
        "MyCounter=Counter(a)\r\n",
        "MyCounter"
      ],
      "execution_count": 5,
      "outputs": [
        {
          "output_type": "execute_result",
          "data": {
            "text/plain": [
              "Counter({' ': 7,\n",
              "         'A': 1,\n",
              "         'H': 1,\n",
              "         'J': 2,\n",
              "         'M': 1,\n",
              "         'Z': 1,\n",
              "         'a': 4,\n",
              "         'd': 2,\n",
              "         'f': 5,\n",
              "         'h': 1,\n",
              "         'i': 3,\n",
              "         'l': 1,\n",
              "         'n': 2,\n",
              "         'o': 2,\n",
              "         'r': 2,\n",
              "         's': 3,\n",
              "         'u': 1,\n",
              "         'y': 2})"
            ]
          },
          "metadata": {
            "tags": []
          },
          "execution_count": 5
        }
      ]
    },
    {
      "cell_type": "code",
      "metadata": {
        "colab": {
          "base_uri": "https://localhost:8080/"
        },
        "id": "t68w4sRApEUi",
        "outputId": "93685169-4159-430a-90b2-d230cdd2f7d6"
      },
      "source": [
        "MyCounter.keys()"
      ],
      "execution_count": 6,
      "outputs": [
        {
          "output_type": "execute_result",
          "data": {
            "text/plain": [
              "dict_keys(['M', 'd', ' ', 'A', 'l', 'i', 'J', 'a', 'f', 'r', 'y', 's', 'o', 'n', 'Z', 'h', 'H', 'u'])"
            ]
          },
          "metadata": {
            "tags": []
          },
          "execution_count": 6
        }
      ]
    },
    {
      "cell_type": "code",
      "metadata": {
        "colab": {
          "base_uri": "https://localhost:8080/"
        },
        "id": "vrS2ysUpp-V7",
        "outputId": "1e9feaa3-1db3-490d-da0e-bddfdbcd14e3"
      },
      "source": [
        "MyCounter.values()"
      ],
      "execution_count": 7,
      "outputs": [
        {
          "output_type": "execute_result",
          "data": {
            "text/plain": [
              "dict_values([1, 2, 7, 1, 1, 3, 2, 4, 5, 2, 2, 3, 2, 2, 1, 1, 1, 1])"
            ]
          },
          "metadata": {
            "tags": []
          },
          "execution_count": 7
        }
      ]
    },
    {
      "cell_type": "code",
      "metadata": {
        "colab": {
          "base_uri": "https://localhost:8080/"
        },
        "id": "jLtoucTkqRzT",
        "outputId": "fa26938b-8c98-481e-cdf2-8b2a31f79b5b"
      },
      "source": [
        "MyCounter.most_common()"
      ],
      "execution_count": 8,
      "outputs": [
        {
          "output_type": "execute_result",
          "data": {
            "text/plain": [
              "[(' ', 7),\n",
              " ('f', 5),\n",
              " ('a', 4),\n",
              " ('i', 3),\n",
              " ('s', 3),\n",
              " ('d', 2),\n",
              " ('J', 2),\n",
              " ('r', 2),\n",
              " ('y', 2),\n",
              " ('o', 2),\n",
              " ('n', 2),\n",
              " ('M', 1),\n",
              " ('A', 1),\n",
              " ('l', 1),\n",
              " ('Z', 1),\n",
              " ('h', 1),\n",
              " ('H', 1),\n",
              " ('u', 1)]"
            ]
          },
          "metadata": {
            "tags": []
          },
          "execution_count": 8
        }
      ]
    },
    {
      "cell_type": "code",
      "metadata": {
        "colab": {
          "base_uri": "https://localhost:8080/"
        },
        "id": "lxGmn_rkq4RJ",
        "outputId": "465e55bb-7dab-4df2-8d06-e591dfe74316"
      },
      "source": [
        "list(MyCounter.elements())"
      ],
      "execution_count": 10,
      "outputs": [
        {
          "output_type": "execute_result",
          "data": {
            "text/plain": [
              "['M',\n",
              " 'd',\n",
              " 'd',\n",
              " ' ',\n",
              " ' ',\n",
              " ' ',\n",
              " ' ',\n",
              " ' ',\n",
              " ' ',\n",
              " ' ',\n",
              " 'A',\n",
              " 'l',\n",
              " 'i',\n",
              " 'i',\n",
              " 'i',\n",
              " 'J',\n",
              " 'J',\n",
              " 'a',\n",
              " 'a',\n",
              " 'a',\n",
              " 'a',\n",
              " 'f',\n",
              " 'f',\n",
              " 'f',\n",
              " 'f',\n",
              " 'f',\n",
              " 'r',\n",
              " 'r',\n",
              " 'y',\n",
              " 'y',\n",
              " 's',\n",
              " 's',\n",
              " 's',\n",
              " 'o',\n",
              " 'o',\n",
              " 'n',\n",
              " 'n',\n",
              " 'Z',\n",
              " 'h',\n",
              " 'H',\n",
              " 'u']"
            ]
          },
          "metadata": {
            "tags": []
          },
          "execution_count": 10
        }
      ]
    },
    {
      "cell_type": "code",
      "metadata": {
        "id": "jeVPNpPrrSWK"
      },
      "source": [
        ""
      ],
      "execution_count": null,
      "outputs": []
    }
  ]
}