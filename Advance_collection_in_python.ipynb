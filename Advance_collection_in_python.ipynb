{
  "nbformat": 4,
  "nbformat_minor": 0,
  "metadata": {
    "colab": {
      "name": "Advance collection in python.ipynb",
      "provenance": [],
      "authorship_tag": "ABX9TyMHebf4a41/XB5ulRpreLvF",
      "include_colab_link": true
    },
    "kernelspec": {
      "name": "python3",
      "display_name": "Python 3"
    }
  },
  "cells": [
    {
      "cell_type": "markdown",
      "metadata": {
        "id": "view-in-github",
        "colab_type": "text"
      },
      "source": [
        "<a href=\"https://colab.research.google.com/github/mjaffry/PythonMade-easy-2/blob/main/Advance_collection_in_python.ipynb\" target=\"_parent\"><img src=\"https://colab.research.google.com/assets/colab-badge.svg\" alt=\"Open In Colab\"/></a>"
      ]
    },
    {
      "cell_type": "code",
      "metadata": {
        "id": "yyKt3dVW74tr"
      },
      "source": [
        "\r\n"
      ],
      "execution_count": null,
      "outputs": []
    },
    {
      "cell_type": "code",
      "metadata": {
        "colab": {
          "base_uri": "https://localhost:8080/"
        },
        "id": "xKrmjqotnhMn",
        "outputId": "36f5129c-9aff-4df2-e9a1-08cd98341324"
      },
      "source": [
        "from collections import Counter\r\n",
        "a= \"Md Ali Jaffry son of Zahid Hussain Jaffry\"\r\n",
        "MyCounter=Counter(a)\r\n",
        "MyCounter"
      ],
      "execution_count": null,
      "outputs": [
        {
          "output_type": "execute_result",
          "data": {
            "text/plain": [
              "Counter({' ': 7,\n",
              "         'A': 1,\n",
              "         'H': 1,\n",
              "         'J': 2,\n",
              "         'M': 1,\n",
              "         'Z': 1,\n",
              "         'a': 4,\n",
              "         'd': 2,\n",
              "         'f': 5,\n",
              "         'h': 1,\n",
              "         'i': 3,\n",
              "         'l': 1,\n",
              "         'n': 2,\n",
              "         'o': 2,\n",
              "         'r': 2,\n",
              "         's': 3,\n",
              "         'u': 1,\n",
              "         'y': 2})"
            ]
          },
          "metadata": {
            "tags": []
          },
          "execution_count": 2
        }
      ]
    },
    {
      "cell_type": "code",
      "metadata": {
        "colab": {
          "base_uri": "https://localhost:8080/"
        },
        "id": "t68w4sRApEUi",
        "outputId": "c5220f4c-0184-47a2-f76d-832bf0ee62af"
      },
      "source": [
        "MyCounter.keys()"
      ],
      "execution_count": null,
      "outputs": [
        {
          "output_type": "execute_result",
          "data": {
            "text/plain": [
              "dict_keys(['M', 'd', ' ', 'A', 'l', 'i', 'J', 'a', 'f', 'r', 'y', 's', 'o', 'n', 'Z', 'h', 'H', 'u'])"
            ]
          },
          "metadata": {
            "tags": []
          },
          "execution_count": 3
        }
      ]
    },
    {
      "cell_type": "code",
      "metadata": {
        "colab": {
          "base_uri": "https://localhost:8080/"
        },
        "id": "vrS2ysUpp-V7",
        "outputId": "d84337d8-18a0-4872-bdb8-9ad580b32c84"
      },
      "source": [
        "MyCounter.values()"
      ],
      "execution_count": null,
      "outputs": [
        {
          "output_type": "execute_result",
          "data": {
            "text/plain": [
              "dict_values([1, 2, 7, 1, 1, 3, 2, 4, 5, 2, 2, 3, 2, 2, 1, 1, 1, 1])"
            ]
          },
          "metadata": {
            "tags": []
          },
          "execution_count": 4
        }
      ]
    },
    {
      "cell_type": "code",
      "metadata": {
        "colab": {
          "base_uri": "https://localhost:8080/"
        },
        "id": "F3CWroom9x_L",
        "outputId": "a106f2b0-0b12-4df0-dbc7-6d8702564fbe"
      },
      "source": [
        "MyCounter.most_common(6)"
      ],
      "execution_count": null,
      "outputs": [
        {
          "output_type": "execute_result",
          "data": {
            "text/plain": [
              "[(' ', 7), ('f', 5), ('a', 4), ('i', 3), ('s', 3), ('d', 2)]"
            ]
          },
          "metadata": {
            "tags": []
          },
          "execution_count": 16
        }
      ]
    },
    {
      "cell_type": "code",
      "metadata": {
        "colab": {
          "base_uri": "https://localhost:8080/"
        },
        "id": "jLtoucTkqRzT",
        "outputId": "6b758f40-fc2b-40e3-8f25-ad3ff5c16cc2"
      },
      "source": [
        "MyCounter.most_common()"
      ],
      "execution_count": null,
      "outputs": [
        {
          "output_type": "execute_result",
          "data": {
            "text/plain": [
              "[(' ', 7),\n",
              " ('f', 5),\n",
              " ('a', 4),\n",
              " ('i', 3),\n",
              " ('s', 3),\n",
              " ('d', 2),\n",
              " ('J', 2),\n",
              " ('r', 2),\n",
              " ('y', 2),\n",
              " ('o', 2),\n",
              " ('n', 2),\n",
              " ('M', 1),\n",
              " ('A', 1),\n",
              " ('l', 1),\n",
              " ('Z', 1),\n",
              " ('h', 1),\n",
              " ('H', 1),\n",
              " ('u', 1)]"
            ]
          },
          "metadata": {
            "tags": []
          },
          "execution_count": 5
        }
      ]
    },
    {
      "cell_type": "code",
      "metadata": {
        "colab": {
          "base_uri": "https://localhost:8080/"
        },
        "id": "lxGmn_rkq4RJ",
        "outputId": "a557fbb8-35ee-41e4-d7f4-109ea2376f32"
      },
      "source": [
        "list(MyCounter.elements())"
      ],
      "execution_count": null,
      "outputs": [
        {
          "output_type": "execute_result",
          "data": {
            "text/plain": [
              "['M',\n",
              " 'd',\n",
              " 'd',\n",
              " ' ',\n",
              " ' ',\n",
              " ' ',\n",
              " ' ',\n",
              " ' ',\n",
              " ' ',\n",
              " ' ',\n",
              " 'A',\n",
              " 'l',\n",
              " 'i',\n",
              " 'i',\n",
              " 'i',\n",
              " 'J',\n",
              " 'J',\n",
              " 'a',\n",
              " 'a',\n",
              " 'a',\n",
              " 'a',\n",
              " 'f',\n",
              " 'f',\n",
              " 'f',\n",
              " 'f',\n",
              " 'f',\n",
              " 'r',\n",
              " 'r',\n",
              " 'y',\n",
              " 'y',\n",
              " 's',\n",
              " 's',\n",
              " 's',\n",
              " 'o',\n",
              " 'o',\n",
              " 'n',\n",
              " 'n',\n",
              " 'Z',\n",
              " 'h',\n",
              " 'H',\n",
              " 'u']"
            ]
          },
          "metadata": {
            "tags": []
          },
          "execution_count": 6
        }
      ]
    },
    {
      "cell_type": "code",
      "metadata": {
        "id": "clvVUt7-ryuo"
      },
      "source": [
        ""
      ],
      "execution_count": null,
      "outputs": []
    },
    {
      "cell_type": "markdown",
      "metadata": {
        "id": "uEKOdRwQrvyk"
      },
      "source": [
        "# **Named Tuple**"
      ]
    },
    {
      "cell_type": "code",
      "metadata": {
        "colab": {
          "base_uri": "https://localhost:8080/"
        },
        "id": "jeVPNpPrrSWK",
        "outputId": "1112024a-a713-465c-dd3b-b38b3ea7935f"
      },
      "source": [
        "from collections import namedtuple\r\n",
        "Point = namedtuple(\"MyLamp\", \"x,y\")\r\n",
        "pt= Point(1,-4)\r\n",
        "print (pt.x)\r\n",
        "print(pt.y)\r\n",
        "  "
      ],
      "execution_count": null,
      "outputs": [
        {
          "output_type": "stream",
          "text": [
            "1\n",
            "-4\n"
          ],
          "name": "stdout"
        }
      ]
    },
    {
      "cell_type": "code",
      "metadata": {
        "colab": {
          "base_uri": "https://localhost:8080/"
        },
        "id": "71xwmSFj9TLg",
        "outputId": "35adf1ad-a567-4701-aae2-17ff2345bd09"
      },
      "source": [
        "from collections import  OrderedDict\r\n",
        "Order_dic = OrderedDict()\r\n",
        "\r\n",
        "Order_dic[\"b\"] =\"2\"\r\n",
        "Order_dic[\"c\"] =\"3\"\r\n",
        "Order_dic[\"a\"] =\"1\"\r\n",
        "\r\n",
        "print(Order_dic)\r\n",
        "\r\n"
      ],
      "execution_count": null,
      "outputs": [
        {
          "output_type": "stream",
          "text": [
            "OrderedDict([('b', '2'), ('c', '3'), ('a', '1')])\n"
          ],
          "name": "stdout"
        }
      ]
    },
    {
      "cell_type": "code",
      "metadata": {
        "colab": {
          "base_uri": "https://localhost:8080/"
        },
        "id": "Vj5N52iM-ldO",
        "outputId": "ba50a097-59f2-42bb-ff85-c4424911a79c"
      },
      "source": [
        "from collections import defaultdict\r\n",
        "default_dic = defaultdict(float)\r\n",
        "default_dic[\"a\"]=10\r\n",
        "default_dic[\"b\"]=20\r\n",
        "default_dic[\"c\"]=200\r\n",
        "default_dic[\"x\"]\r\n",
        "default_dic\r\n"
      ],
      "execution_count": null,
      "outputs": [
        {
          "output_type": "execute_result",
          "data": {
            "text/plain": [
              "defaultdict(float, {'a': 10, 'b': 20, 'c': 200, 'x': 0.0})"
            ]
          },
          "metadata": {
            "tags": []
          },
          "execution_count": 9
        }
      ]
    },
    {
      "cell_type": "code",
      "metadata": {
        "colab": {
          "base_uri": "https://localhost:8080/"
        },
        "id": "OttaVANCH6RP",
        "outputId": "908d2064-3169-45e6-c71d-15105af548fc"
      },
      "source": [
        "# Python program to demonstrate \r\n",
        "# defaultdict \r\n",
        "\r\n",
        "\r\n",
        "from collections import defaultdict \r\n",
        "\r\n",
        "\r\n",
        "# Function to return a default \r\n",
        "# values for keys that is not \r\n",
        "# present \r\n",
        "def def_value(): \r\n",
        "\treturn \"Not Present\"\r\n",
        "\t\r\n",
        "# Defining the dict \r\n",
        "d = defaultdict(def_value) \r\n",
        "d[\"a\"] = 1\r\n",
        "d[\"b\"] = 2\r\n",
        "\r\n",
        "print(d[\"a\"]) \r\n",
        "print(d[\"b\"]) \r\n",
        "print(d[\"c\"]) \r\n"
      ],
      "execution_count": null,
      "outputs": [
        {
          "output_type": "stream",
          "text": [
            "1\n",
            "2\n",
            "Not Present\n"
          ],
          "name": "stdout"
        }
      ]
    },
    {
      "cell_type": "code",
      "metadata": {
        "colab": {
          "base_uri": "https://localhost:8080/"
        },
        "id": "SLwbKjr-IDsd",
        "outputId": "c389d4a8-16a8-4921-9e15-8d9722975add"
      },
      "source": [
        "# Python program to demonstrate \r\n",
        "# default_factory argument of \r\n",
        "# defaultdict \r\n",
        "\r\n",
        "\r\n",
        "from collections import defaultdict \r\n",
        "\r\n",
        "\t\r\n",
        "# Defining the dict and passing \r\n",
        "# lambda as default_factory argument \r\n",
        "d = defaultdict(lambda: \"Not Present\") \r\n",
        "d[\"a\"] = 1\r\n",
        "d[\"b\"] = 2\r\n",
        "\r\n",
        "print(d[\"a\"]) \r\n",
        "print(d[\"b\"]) \r\n",
        "print(d[\"c\"]) \r\n"
      ],
      "execution_count": null,
      "outputs": [
        {
          "output_type": "stream",
          "text": [
            "1\n",
            "2\n",
            "Not Present\n"
          ],
          "name": "stdout"
        }
      ]
    },
    {
      "cell_type": "markdown",
      "metadata": {
        "id": "8piDaPf1J6_m"
      },
      "source": [
        "**Deque**"
      ]
    },
    {
      "cell_type": "code",
      "metadata": {
        "colab": {
          "base_uri": "https://localhost:8080/"
        },
        "id": "dtj3nfIoIjmA",
        "outputId": "89c9c3e8-da86-4f77-fda3-ba9d594221b8"
      },
      "source": [
        "# Python code to demonstrate deque \r\n",
        "\t\r\n",
        "\r\n",
        "from collections import deque \r\n",
        "\t\r\n",
        "# Declaring deque \r\n",
        "queue = deque(['name','age','DOB']) \r\n",
        "\t\r\n",
        "print(queue)\r\n"
      ],
      "execution_count": null,
      "outputs": [
        {
          "output_type": "stream",
          "text": [
            "deque(['name', 'age', 'DOB'])\n"
          ],
          "name": "stdout"
        }
      ]
    },
    {
      "cell_type": "code",
      "metadata": {
        "colab": {
          "base_uri": "https://localhost:8080/"
        },
        "id": "TEPdSdi4KNCD",
        "outputId": "9d30e3fc-1fce-4dd6-cbeb-73567ec9b506"
      },
      "source": [
        "# Python code to demonstrate working of \r\n",
        "# append(), appendleft(), pop(), and popleft()\r\n",
        "\r\n",
        "# importing \"collections\" for deque operations\r\n",
        "import collections\r\n",
        "\r\n",
        "# initializing deque\r\n",
        "de = collections.deque([1,2,3])\r\n",
        "\r\n",
        "# using append() to insert element at right end \r\n",
        "# inserts 4 at the end of deque\r\n",
        "de.append(4)\r\n",
        "\r\n",
        "# printing modified deque\r\n",
        "print (\"The deque after appending at right is : \")\r\n",
        "print (de)\r\n",
        "\r\n",
        "# using appendleft() to insert element at left end \r\n",
        "# inserts 6 at the beginning of deque\r\n",
        "de.appendleft(6)\r\n",
        "\r\n",
        "# printing modified deque\r\n",
        "print (\"The deque after appending at left is : \")\r\n",
        "print (de)\r\n",
        "\r\n",
        "# using pop() to delete element from right end \r\n",
        "# deletes 4 from the right end of deque\r\n",
        "de.pop()\r\n",
        "\r\n",
        "# printing modified deque\r\n",
        "print (\"The deque after deleting from right is : \")\r\n",
        "print (de)\r\n",
        "\r\n",
        "# using popleft() to delete element from left end \r\n",
        "# deletes 6 from the left end of deque\r\n",
        "de.popleft()\r\n",
        "\r\n",
        "# printing modified deque\r\n",
        "print (\"The deque after deleting from left is : \")\r\n",
        "print (de)\r\n"
      ],
      "execution_count": null,
      "outputs": [
        {
          "output_type": "stream",
          "text": [
            "The deque after appending at right is : \n",
            "deque([1, 2, 3, 4])\n",
            "The deque after appending at left is : \n",
            "deque([6, 1, 2, 3, 4])\n",
            "The deque after deleting from right is : \n",
            "deque([6, 1, 2, 3])\n",
            "The deque after deleting from left is : \n",
            "deque([1, 2, 3])\n"
          ],
          "name": "stdout"
        }
      ]
    },
    {
      "cell_type": "code",
      "metadata": {
        "colab": {
          "base_uri": "https://localhost:8080/"
        },
        "id": "W6oOzdVZKpZ9",
        "outputId": "338d09a7-6a4f-46e4-abb8-40e340f7833f"
      },
      "source": [
        "# Python code to demonstrate working of \r\n",
        "# insert(), index(), remove(), count()\r\n",
        "\r\n",
        "# importing \"collections\" for deque operations\r\n",
        "import collections\r\n",
        "\r\n",
        "# initializing deque\r\n",
        "de = collections.deque([1, 2, 3, 3, 4, 2, 4])\r\n",
        "\r\n",
        "# using index() to print the first occurrence of 4\r\n",
        "print (\"The number 4 first occurs at a position : \")\r\n",
        "print (de.index(2,1,5)\r\n",
        "\r\n",
        "# using insert() to insert the value 3 at 5th position\r\n",
        "de.insert(3,\"Abc\")\r\n",
        "de\r\n",
        "\r\n",
        "# printing modified deque\r\n",
        "print (\"The deque after inserting 3 at 5th position is : \")\r\n",
        "print (de)\r\n",
        "\r\n",
        "# using count() to count the occurrences of 3\r\n",
        "print (\"The count of 3 in deque is : \")\r\n",
        "print (de.count(3))\r\n",
        "\r\n",
        "# using remove() to remove the first occurrence of 3\r\n",
        "de.remove(3)\r\n",
        "\r\n",
        "# printing modified deque\r\n",
        "print (\"The deque after deleting first occurrence of 3 is : \")\r\n",
        "print (de)\r\n"
      ],
      "execution_count": 37,
      "outputs": [
        {
          "output_type": "execute_result",
          "data": {
            "text/plain": [
              "deque([1, 2, 3, 'Abc', 3, 4, 2, 4])"
            ]
          },
          "metadata": {
            "tags": []
          },
          "execution_count": 37
        }
      ]
    },
    {
      "cell_type": "code",
      "metadata": {
        "id": "yry5LKP5KwiG"
      },
      "source": [
        "# Python code to demonstrate working of \r\n",
        "# extend(), extendleft(), rotate(), reverse()\r\n",
        "\r\n",
        "# importing \"collections\" for deque operations\r\n",
        "import collections\r\n",
        "\r\n",
        "# initializing deque\r\n",
        "de = collections.deque([1, 2, 3,])\r\n",
        "\r\n",
        "# using extend() to add numbers to right end \r\n",
        "# adds 4,5,6 to right end\r\n",
        "de.extend([4,5,6])\r\n",
        "\r\n",
        "\r\n",
        "# printing modified deque\r\n",
        "print (\"The deque after extending deque at end is : \")\r\n",
        "print (de)\r\n",
        "\r\n",
        "# using extendleft() to add numbers to left end \r\n",
        "# adds 7,8,9 to right end\r\n",
        "de.extend([7,8,9])\r\n",
        "\r\n",
        "# printing modified deque\r\n",
        "print (\"The deque after extending deque at beginning is : \")\r\n",
        "print (de)\r\n",
        "\r\n",
        "# using rotate() to rotate the deque\r\n",
        "# rotates by 3 to left\r\n",
        "de.rotate(-1)\r\n",
        "\r\n",
        "# printing modified deque\r\n",
        "print (\"The deque after rotating deque is : \")\r\n",
        "print (de)\r\n",
        "\r\n",
        "# using reverse() to reverse the deque\r\n",
        "de.reverse()\r\n",
        "\r\n",
        "# printing modified deque\r\n",
        "print (\"The deque after reversing deque is : \")\r\n",
        "print (de)\r\n"
      ],
      "execution_count": 56,
      "outputs": []
    }
  ]
}